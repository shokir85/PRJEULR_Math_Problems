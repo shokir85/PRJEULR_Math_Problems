{
 "cells": [
  {
   "cell_type": "code",
   "execution_count": null,
   "metadata": {
    "scrolled": true
   },
   "outputs": [],
   "source": [
    "import time\n",
    "start = time.time()\n",
    "maxcount = 0\n",
    "for j in range(12375,12377):\n",
    "    s = (1+j)*j/2\n",
    "    mylist = []\n",
    "    divisor_count = 0\n",
    "    for i in range(1,int(s+1)):\n",
    "        if s%i == 0:\n",
    "            divisor_count += 1\n",
    "            mylist.append(i)\n",
    "            if divisor_count > maxcount:\n",
    "                maxcount = divisor_count\n",
    "    print('j=', j, 's=', s, 'maxcount=', maxcount)\n",
    "    print(mylist)\n",
    "print(time.time()- start)"
   ]
  },
  {
   "cell_type": "code",
   "execution_count": 3,
   "metadata": {},
   "outputs": [],
   "source": [
    "def primecounter(lst):\n",
    "    d = dict((x,lst.count(x)) for x in set(lst))\n",
    "    mult = 1\n",
    "    for key,value in d.items():\n",
    "        mult = mult *(value + 1)\n",
    "    return mult"
   ]
  },
  {
   "cell_type": "code",
   "execution_count": 10,
   "metadata": {},
   "outputs": [
    {
     "name": "stdout",
     "output_type": "stream",
     "text": [
      "12375 576 76576500.0\n",
      "6.506006479263306\n"
     ]
    }
   ],
   "source": [
    "import time\n",
    "t0 = time.time()\n",
    "fcount = 1\n",
    "for j in range(1, 200000):\n",
    "    s = (1+j)*j/2\n",
    "    f = 2\n",
    "    primelist = []\n",
    "    while s > 1:\n",
    "        if s%f == 0:\n",
    "            primelist.append(f)\n",
    "            s = s/f\n",
    "        else:\n",
    "            f = f + 1\n",
    "    prcount = primecounter(primelist)\n",
    "    if prcount > fcount:\n",
    "        fcount = prcount\n",
    "    if fcount > 500:\n",
    "        print(j, fcount, j*(j+1)/2)\n",
    "        break\n",
    "t1 = time.time()\n",
    "print(t1 - t0)"
   ]
  },
  {
   "cell_type": "code",
   "execution_count": null,
   "metadata": {},
   "outputs": [],
   "source": [
    "#Using different counter function"
   ]
  },
  {
   "cell_type": "code",
   "execution_count": null,
   "metadata": {},
   "outputs": [],
   "source": [
    "def occurDict(items):\n",
    "    d = {}\n",
    "    for i in items:\n",
    "        if i in d:\n",
    "            d[i] = d[i]+1\n",
    "        else:\n",
    "            d[i] = 1\n",
    "    mult = 1\n",
    "    for key, value in d.items():\n",
    "        mult = mult * (value+1)\n",
    "    return mult"
   ]
  },
  {
   "cell_type": "code",
   "execution_count": null,
   "metadata": {},
   "outputs": [],
   "source": [
    "import time\n",
    "t0 = time.time()\n",
    "fcount = 1\n",
    "for j in range(1, 13000):\n",
    "    s = (1+j)*j/2\n",
    "    f = 2\n",
    "    primelist = []\n",
    "    while s > 1:\n",
    "        if s%f == 0:\n",
    "            primelist.append(f)\n",
    "            s = s/f\n",
    "        else:\n",
    "            f = f + 1\n",
    "    prcount = occurDict(primelist)\n",
    "    if prcount > fcount:\n",
    "        fcount = prcount\n",
    "    if fcount > 500:\n",
    "        print(j, fcount, j*(j+1)/2)\n",
    "        break\n",
    "print(primelist)\n",
    "t1 = time.time()\n",
    "print(t1 - t0)"
   ]
  },
  {
   "cell_type": "code",
   "execution_count": 1,
   "metadata": {},
   "outputs": [],
   "source": [
    "def primeFactor(n):\n",
    "    mylist = []\n",
    "    while n%2 ==0:\n",
    "        mylist.append(2)\n",
    "        n/=2\n",
    "    f = 3\n",
    "    while n > 1:\n",
    "        if n%f == 0:\n",
    "            mylist.append(f)\n",
    "            n/=f\n",
    "        else:\n",
    "            f += 2\n",
    "    return mylist"
   ]
  },
  {
   "cell_type": "code",
   "execution_count": 29,
   "metadata": {
    "scrolled": true
   },
   "outputs": [
    {
     "name": "stdout",
     "output_type": "stream",
     "text": [
      "12375 576 76576500.0\n",
      "[2, 2, 3, 3, 5, 5, 5, 7, 11, 13, 17]\n",
      "3.2818408012390137\n"
     ]
    }
   ],
   "source": [
    "import time\n",
    "t0 = time.time()\n",
    "fcount = 1\n",
    "for j in range(1, 2000000):\n",
    "    s = (1+j)*j/2.\n",
    "    mylist = []\n",
    "    while s%2 ==0:\n",
    "        mylist.append(2)\n",
    "        s/=2\n",
    "    f = 3\n",
    "    while s > 1:\n",
    "        if s%f == 0:\n",
    "            mylist.append(f)\n",
    "            s/=f\n",
    "        else:\n",
    "            f += 2\n",
    "    prcount = primecounter(mylist)\n",
    "    if prcount > fcount:\n",
    "        fcount = prcount\n",
    "    if fcount > 500:\n",
    "        print(j, fcount, j*(j+1)/2)\n",
    "        break\n",
    "print(mylist)\n",
    "t1 = time.time()\n",
    "print(t1 - t0)"
   ]
  },
  {
   "cell_type": "code",
   "execution_count": 81,
   "metadata": {},
   "outputs": [
    {
     "name": "stdout",
     "output_type": "stream",
     "text": [
      "12375 576 76576500.0\n",
      "[2, 2, 3, 3, 5, 5, 5, 7, 11, 13, 17]\n",
      "Time:  2.593583345413208\n"
     ]
    }
   ],
   "source": [
    "import time\n",
    "def primecounter(lst):\n",
    "    d = dict((x,lst.count(x)) for x in set(lst))\n",
    "    primeProd = 1\n",
    "    for key,value in d.items():\n",
    "        primeProd = primeProd *(value + 1)\n",
    "    return primeProd\n",
    "def HighlyDivTrianNum(DivNum):\n",
    "    t0 = time.time()\n",
    "    fcount = 1\n",
    "    x = 1\n",
    "    while fcount < DivNum:\n",
    "        s = (1+x)*x/2.\n",
    "        primelist = []\n",
    "        while s%2 ==0:\n",
    "            primelist.append(2)\n",
    "            s/=2\n",
    "        f = 3\n",
    "        while s > 1:\n",
    "            if s%f == 0:\n",
    "                primelist.append(f)\n",
    "                s/=f\n",
    "            else:\n",
    "                f += 2\n",
    "        prcount = primecounter(primelist)\n",
    "        if prcount > fcount:\n",
    "            fcount = prcount\n",
    "        summa = x*(x+1)/2\n",
    "        x = x + 1\n",
    "    print(x-1, fcount, summa)\n",
    "    print(primelist)\n",
    "    t1 = time.time()\n",
    "    print('Time: ',t1 - t0)\n",
    "HighlyDivTrianNum(500)"
   ]
  },
  {
   "cell_type": "code",
   "execution_count": null,
   "metadata": {},
   "outputs": [],
   "source": []
  }
 ],
 "metadata": {
  "kernelspec": {
   "display_name": "Python 3",
   "language": "python",
   "name": "python3"
  },
  "language_info": {
   "codemirror_mode": {
    "name": "ipython",
    "version": 3
   },
   "file_extension": ".py",
   "mimetype": "text/x-python",
   "name": "python",
   "nbconvert_exporter": "python",
   "pygments_lexer": "ipython3",
   "version": "3.6.4"
  }
 },
 "nbformat": 4,
 "nbformat_minor": 2
}
