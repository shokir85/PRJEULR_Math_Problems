{
 "cells": [
  {
   "cell_type": "code",
   "execution_count": 24,
   "metadata": {},
   "outputs": [
    {
     "name": "stdout",
     "output_type": "stream",
     "text": [
      "137846528820.0\n",
      "0.07269573211669922\n"
     ]
    }
   ],
   "source": [
    "#Project Euler problem #15\n",
    "import time\n",
    "import pandas as pd\n",
    "import numpy as np\n",
    "start = time.time()\n",
    "row =col = 21\n",
    "data = pd.DataFrame(np.zeros((row,col))) \n",
    "for i in range(1,row):\n",
    "    data[i][0] = 1\n",
    "    data[0][i] = 1\n",
    "for i in range(row):\n",
    "    for j in range(col):\n",
    "        if i >0 and j>0:\n",
    "            data[i][j] = data[i][j-1] + data[i-1][j] \n",
    "print(data[row-1][col-1])\n",
    "print(time.time()-start)"
   ]
  },
  {
   "cell_type": "code",
   "execution_count": null,
   "metadata": {},
   "outputs": [],
   "source": []
  }
 ],
 "metadata": {
  "kernelspec": {
   "display_name": "Python 3",
   "language": "python",
   "name": "python3"
  },
  "language_info": {
   "codemirror_mode": {
    "name": "ipython",
    "version": 3
   },
   "file_extension": ".py",
   "mimetype": "text/x-python",
   "name": "python",
   "nbconvert_exporter": "python",
   "pygments_lexer": "ipython3",
   "version": "3.6.4"
  }
 },
 "nbformat": 4,
 "nbformat_minor": 2
}
