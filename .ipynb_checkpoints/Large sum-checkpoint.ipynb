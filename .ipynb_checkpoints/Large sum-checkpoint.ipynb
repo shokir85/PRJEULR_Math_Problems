{
 "cells": [
  {
   "cell_type": "code",
   "execution_count": 19,
   "metadata": {},
   "outputs": [
    {
     "name": "stdout",
     "output_type": "stream",
     "text": [
      "5537376230390876637302048746832985971773659831892672\n",
      "['5', '5', '3', '7', '3', '7', '6', '2', '3', '0']\n"
     ]
    }
   ],
   "source": [
    "data = open('largesum.txt','r')\n",
    "x = data.readlines()\n",
    "summa = 0\n",
    "for line in x:\n",
    "    summa += int(line)\n",
    "print(summa)\n",
    "digits = []\n",
    "for x in str(summa):\n",
    "    digits.append(x)\n",
    "print(digits[:10])\n"
   ]
  },
  {
   "cell_type": "code",
   "execution_count": null,
   "metadata": {},
   "outputs": [],
   "source": []
  }
 ],
 "metadata": {
  "kernelspec": {
   "display_name": "Python 3",
   "language": "python",
   "name": "python3"
  },
  "language_info": {
   "codemirror_mode": {
    "name": "ipython",
    "version": 3
   },
   "file_extension": ".py",
   "mimetype": "text/x-python",
   "name": "python",
   "nbconvert_exporter": "python",
   "pygments_lexer": "ipython3",
   "version": "3.6.4"
  }
 },
 "nbformat": 4,
 "nbformat_minor": 2
}
