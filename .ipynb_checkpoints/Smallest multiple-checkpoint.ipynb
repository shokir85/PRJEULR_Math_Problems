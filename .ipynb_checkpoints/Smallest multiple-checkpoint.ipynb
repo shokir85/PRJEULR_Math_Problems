{
 "cells": [
  {
   "cell_type": "code",
   "execution_count": 16,
   "metadata": {},
   "outputs": [
    {
     "name": "stdout",
     "output_type": "stream",
     "text": [
      "1 1\n",
      "2 2\n",
      "3 6\n",
      "4 24\n",
      "5 120\n",
      "6 120\n",
      "7 840\n",
      "8 840\n",
      "9 7560\n",
      "10 7560\n"
     ]
    }
   ],
   "source": [
    "#2520 is the smallest number that can be divided by each of the numbers from 1 to 10 without any remainder.\n",
    "\n",
    "#What is the smallest positive number that is evenly divisible by all of the numbers from 1 to 20?\n",
    "mult = 1\n",
    "for i in range(1,11):\n",
    "    if mult%i != 0:\n",
    "        mult = mult * i\n",
    "    print(i, mult)\n",
    "    "
   ]
  },
  {
   "cell_type": "code",
   "execution_count": 13,
   "metadata": {},
   "outputs": [
    {
     "name": "stdout",
     "output_type": "stream",
     "text": [
      "1\n",
      "2\n",
      "2\n",
      "2\n",
      "4\n",
      "4\n",
      "3\n",
      "1\n",
      "4\n",
      "8\n",
      "5\n",
      "14\n",
      "232792560\n"
     ]
    }
   ],
   "source": [
    "smallest_num = 1\n",
    "for i in range (1,21):\n",
    "    if smallest_num % i > 0:\n",
    "        for k in range (1,21):\n",
    "            if (smallest_num * k) % i == 0:   \n",
    "                smallest_num = smallest_num * k\n",
    "                break\n",
    "print (smallest_num)    "
   ]
  },
  {
   "cell_type": "code",
   "execution_count": 57,
   "metadata": {},
   "outputs": [
    {
     "data": {
      "text/plain": [
       "14549535.0"
      ]
     },
     "execution_count": 57,
     "metadata": {},
     "output_type": "execute_result"
    }
   ],
   "source": [
    "232792560/16\n"
   ]
  },
  {
   "cell_type": "code",
   "execution_count": 2,
   "metadata": {},
   "outputs": [
    {
     "data": {
      "text/plain": [
       "67567.5"
      ]
     },
     "execution_count": 2,
     "metadata": {},
     "output_type": "execute_result"
    }
   ],
   "source": [
    "1081080/16"
   ]
  },
  {
   "cell_type": "code",
   "execution_count": null,
   "metadata": {},
   "outputs": [],
   "source": []
  }
 ],
 "metadata": {
  "kernelspec": {
   "display_name": "Python 3",
   "language": "python",
   "name": "python3"
  },
  "language_info": {
   "codemirror_mode": {
    "name": "ipython",
    "version": 3
   },
   "file_extension": ".py",
   "mimetype": "text/x-python",
   "name": "python",
   "nbconvert_exporter": "python",
   "pygments_lexer": "ipython3",
   "version": "3.6.4"
  }
 },
 "nbformat": 4,
 "nbformat_minor": 2
}
