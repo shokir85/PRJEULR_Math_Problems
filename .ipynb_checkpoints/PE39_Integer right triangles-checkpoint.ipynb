{
 "cells": [
  {
   "cell_type": "markdown",
   "metadata": {},
   "source": [
    "If p is the perimeter of a right angle triangle with integral length sides, {a,b,c}, there are exactly three solutions for p = 120.\n",
    "{20,48,52}, {24,45,51}, {30,40,50}\n",
    "For which value of p ≤ 1000, is the number of solutions maximised?"
   ]
  },
  {
   "cell_type": "code",
   "execution_count": 79,
   "metadata": {
    "scrolled": false
   },
   "outputs": [
    {
     "name": "stdout",
     "output_type": "stream",
     "text": [
      "840.0\n",
      "8\n"
     ]
    }
   ],
   "source": [
    "plist = []\n",
    "count = 0\n",
    "cmax = 0\n",
    "for a in range(1, 500):\n",
    "    for b in range(1, 500):\n",
    "        if a<b:\n",
    "            c = (a**2+b**2)**0.5\n",
    "            p = a+b+c\n",
    "        if c/int(c) == 1 and p <=1000:\n",
    "            count +=1\n",
    "            plist.append(p)\n",
    "            if c>cmax:\n",
    "                cmax = c\n",
    "#print(count) \n",
    "#print(cmax)\n",
    "#plist.sort()\n",
    "#print(plist)\n",
    "from collections import Counter\n",
    "pdict = Counter(plist)\n",
    "k=pdict.most_common()\n",
    "#print(k)\n",
    "print(k[0][0])\n",
    "print(k[0][1])"
   ]
  },
  {
   "cell_type": "code",
   "execution_count": null,
   "metadata": {},
   "outputs": [],
   "source": []
  }
 ],
 "metadata": {
  "kernelspec": {
   "display_name": "Python 3",
   "language": "python",
   "name": "python3"
  },
  "language_info": {
   "codemirror_mode": {
    "name": "ipython",
    "version": 3
   },
   "file_extension": ".py",
   "mimetype": "text/x-python",
   "name": "python",
   "nbconvert_exporter": "python",
   "pygments_lexer": "ipython3",
   "version": "3.7.4"
  }
 },
 "nbformat": 4,
 "nbformat_minor": 2
}
