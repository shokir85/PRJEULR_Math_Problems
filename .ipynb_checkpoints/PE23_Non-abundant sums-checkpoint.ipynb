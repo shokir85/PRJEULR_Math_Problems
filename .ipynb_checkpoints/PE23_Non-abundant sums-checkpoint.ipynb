{
 "cells": [
  {
   "cell_type": "code",
   "execution_count": 227,
   "metadata": {},
   "outputs": [
    {
     "name": "stdout",
     "output_type": "stream",
     "text": [
      "4179871\n",
      "47.75875210762024\n"
     ]
    }
   ],
   "source": [
    "import time\n",
    "t0 = time.time()\n",
    "    #creating a dictionary of abundant numbers\n",
    "dictlib = {}\n",
    "for i in range(2,28123):\n",
    "    add = 0\n",
    "    for j in range(i, 0, -1):\n",
    "        if i%j ==0 and j !=i:\n",
    "            add +=j\n",
    "    if add > i:\n",
    "        dictlib[i] = add\n",
    "    # looping from 28123 to 1 to check if number is a sum of 2 abundant number\n",
    "sum_abundant = 0\n",
    "sum_all = 0\n",
    "n = 28123\n",
    "for i in range(n,0,-1):\n",
    "    sum_all +=i\n",
    "    for j in dictlib:\n",
    "        if (i-j) in dictlib :\n",
    "            sum_abundant += i\n",
    "            break\n",
    "print(sum_all-sum_abundant)\n",
    "print(time.time()-t0)"
   ]
  },
  {
   "cell_type": "code",
   "execution_count": 228,
   "metadata": {},
   "outputs": [
    {
     "name": "stdout",
     "output_type": "stream",
     "text": [
      "4179871\n"
     ]
    }
   ],
   "source": [
    "n = 28123\n",
    "sum1 = 0\n",
    "sum2 = 0\n",
    "for i in range(n,0,-1):\n",
    "    sum2 +=i\n",
    "    for j in dictlib:\n",
    "        if (i-j) in dictlib :\n",
    "            sum1 += i\n",
    "            break\n",
    "print(sum2-sum1)"
   ]
  },
  {
   "cell_type": "code",
   "execution_count": null,
   "metadata": {},
   "outputs": [],
   "source": []
  }
 ],
 "metadata": {
  "kernelspec": {
   "display_name": "Python 3",
   "language": "python",
   "name": "python3"
  },
  "language_info": {
   "codemirror_mode": {
    "name": "ipython",
    "version": 3
   },
   "file_extension": ".py",
   "mimetype": "text/x-python",
   "name": "python",
   "nbconvert_exporter": "python",
   "pygments_lexer": "ipython3",
   "version": "3.6.4"
  }
 },
 "nbformat": 4,
 "nbformat_minor": 2
}
