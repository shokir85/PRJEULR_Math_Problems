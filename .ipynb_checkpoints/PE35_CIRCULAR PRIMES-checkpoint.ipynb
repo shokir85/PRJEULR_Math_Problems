{
 "cells": [
  {
   "cell_type": "code",
   "execution_count": 307,
   "metadata": {},
   "outputs": [
    {
     "name": "stdout",
     "output_type": "stream",
     "text": [
      "14.694745779037476\n"
     ]
    }
   ],
   "source": [
    "import time\n",
    "t0 = time.time()\n",
    "prime_list = []\n",
    "for x in range(2,1000001):\n",
    "    isprime = True\n",
    "    for y in range(2, int(x**0.5)+1):\n",
    "        if x%y ==0:\n",
    "            isprime = False\n",
    "            break\n",
    "    if isprime:\n",
    "        prime_list.append(x)\n",
    "print(time.time()- t0)"
   ]
  },
  {
   "cell_type": "code",
   "execution_count": 308,
   "metadata": {},
   "outputs": [
    {
     "name": "stdout",
     "output_type": "stream",
     "text": [
      "[2, 3, 5, 7, 11, 13, 17, 31, 37, 71, 73, 79, 97, 113, 131, 197, 199, 311, 337, 373, 719, 733, 919, 971, 991, 1193, 1931, 3119, 3779, 7793, 7937, 9311, 9377, 11939, 19391, 19937, 37199, 39119, 71993, 91193, 93719, 93911, 99371, 193939, 199933, 319993, 331999, 391939, 393919, 919393, 933199, 939193, 939391, 993319, 999331]\n"
     ]
    },
    {
     "data": {
      "text/plain": [
       "55"
      ]
     },
     "execution_count": 308,
     "metadata": {},
     "output_type": "execute_result"
    }
   ],
   "source": [
    "circular_primes = [2,3,5,7]\n",
    "for number in prime_list:\n",
    "    digits = [d for d in str(number)]\n",
    "    rot_list = []\n",
    "    for i in range(len(digits)-1):\n",
    "        digits.append(digits[0])\n",
    "        digits.remove(digits[0])\n",
    "        a = ''.join(map(str,digits))\n",
    "        rot_list.append(a)\n",
    "    counter = 0\n",
    "    for item in rot_list:\n",
    "        if int(item) in prime_list:\n",
    "            counter +=1\n",
    "        if counter == len(digits) - 1:\n",
    "            circular_primes.append(number)\n",
    "print(circular_primes)\n",
    "len(circular_primes)"
   ]
  },
  {
   "cell_type": "code",
   "execution_count": null,
   "metadata": {},
   "outputs": [],
   "source": []
  }
 ],
 "metadata": {
  "kernelspec": {
   "display_name": "Python 3",
   "language": "python",
   "name": "python3"
  },
  "language_info": {
   "codemirror_mode": {
    "name": "ipython",
    "version": 3
   },
   "file_extension": ".py",
   "mimetype": "text/x-python",
   "name": "python",
   "nbconvert_exporter": "python",
   "pygments_lexer": "ipython3",
   "version": "3.6.4"
  }
 },
 "nbformat": 4,
 "nbformat_minor": 2
}
