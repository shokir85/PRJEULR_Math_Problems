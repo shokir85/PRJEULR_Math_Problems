{
 "cells": [
  {
   "cell_type": "code",
   "execution_count": 54,
   "metadata": {},
   "outputs": [
    {
     "data": {
      "text/plain": [
       "[71, 839, 1471, 6857]"
      ]
     },
     "execution_count": 54,
     "metadata": {},
     "output_type": "execute_result"
    }
   ],
   "source": [
    "def largest_prime_factor_of(number):\n",
    "    list_of_prime_factors = []\n",
    "    prime_factor = 2 \n",
    "    while number > 1:\n",
    "        if number%prime_factor==0:\n",
    "            number = number/prime_factor\n",
    "            list_of_prime_factors.append(prime_factor)\n",
    "        else:\n",
    "            prime_factor += 1\n",
    "    return list_of_prime_factors\n",
    "largest_prime_factor_of(600851475143)"
   ]
  },
  {
   "cell_type": "code",
   "execution_count": null,
   "metadata": {},
   "outputs": [],
   "source": []
  }
 ],
 "metadata": {
  "kernelspec": {
   "display_name": "Python 3",
   "language": "python",
   "name": "python3"
  },
  "language_info": {
   "codemirror_mode": {
    "name": "ipython",
    "version": 3
   },
   "file_extension": ".py",
   "mimetype": "text/x-python",
   "name": "python",
   "nbconvert_exporter": "python",
   "pygments_lexer": "ipython3",
   "version": "3.7.1"
  }
 },
 "nbformat": 4,
 "nbformat_minor": 2
}
