{
 "cells": [
  {
   "cell_type": "code",
   "execution_count": 1,
   "metadata": {},
   "outputs": [
    {
     "name": "stdout",
     "output_type": "stream",
     "text": [
      "[2, 1.0]\n",
      "[3, 10, 5.0, 16.0, 8.0, 4.0, 2.0, 1.0]\n",
      "[4, 2.0, 1.0]\n",
      "[5, 16, 8.0, 4.0, 2.0, 1.0]\n",
      "[6, 3.0, 10.0, 5.0, 16.0, 8.0, 4.0, 2.0, 1.0]\n",
      "[7, 22, 11.0, 34.0, 17.0, 52.0, 26.0, 13.0, 40.0, 20.0, 10.0, 5.0, 16.0, 8.0, 4.0, 2.0, 1.0]\n",
      "[8, 4.0, 2.0, 1.0]\n",
      "[9, 28, 14.0, 7.0, 22.0, 11.0, 34.0, 17.0, 52.0, 26.0, 13.0, 40.0, 20.0, 10.0, 5.0, 16.0, 8.0, 4.0, 2.0, 1.0]\n",
      "[10, 5.0, 16.0, 8.0, 4.0, 2.0, 1.0]\n",
      "{2: 2, 3: 8, 4: 3, 5: 6, 6: 9, 7: 17, 8: 4, 9: 20, 10: 7}\n",
      "0.0005009174346923828\n"
     ]
    }
   ],
   "source": [
    "# Project Euler # 14\n",
    "import time\n",
    "t0=time.time()\n",
    "numdict = {}\n",
    "for n in range(2,11):\n",
    "    chain = [n]\n",
    "    x = n\n",
    "    while n > 1:\n",
    "        if n %2 == 0: \n",
    "            chain.append(n/2)\n",
    "            n /=2\n",
    "        else:\n",
    "            chain.append(3*n+1)\n",
    "            n = 3*n + 1\n",
    "        numdict[x] = len(chain)\n",
    "    print(chain)\n",
    "    \n",
    "print(numdict)\n",
    "print(time.time()-t0)"
   ]
  },
  {
   "cell_type": "code",
   "execution_count": 124,
   "metadata": {},
   "outputs": [
    {
     "data": {
      "text/plain": [
       "[20, 10.0, 5.0, 16.0, 8.0, 4.0, 2.0, 1.0]"
      ]
     },
     "execution_count": 124,
     "metadata": {},
     "output_type": "execute_result"
    }
   ],
   "source": [
    "def collatz_number(n):\n",
    "    chain = [n]\n",
    "    while n > 1:\n",
    "        if n %2 == 0:\n",
    "            chain.append(n/2)\n",
    "            n /=2\n",
    "        else:\n",
    "            chain.append(3*n+1)\n",
    "            n = 3*n + 1\n",
    "    return chain\n",
    "collatz_number(20)"
   ]
  },
  {
   "cell_type": "code",
   "execution_count": null,
   "metadata": {},
   "outputs": [],
   "source": []
  }
 ],
 "metadata": {
  "kernelspec": {
   "display_name": "Python 3",
   "language": "python",
   "name": "python3"
  },
  "language_info": {
   "codemirror_mode": {
    "name": "ipython",
    "version": 3
   },
   "file_extension": ".py",
   "mimetype": "text/x-python",
   "name": "python",
   "nbconvert_exporter": "python",
   "pygments_lexer": "ipython3",
   "version": "3.6.4"
  }
 },
 "nbformat": 4,
 "nbformat_minor": 2
}
