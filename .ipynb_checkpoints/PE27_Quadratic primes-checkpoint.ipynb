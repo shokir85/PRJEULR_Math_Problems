{
 "cells": [
  {
   "cell_type": "code",
   "execution_count": null,
   "metadata": {},
   "outputs": [],
   "source": [
    "d1list = []\n",
    "d2list = []\n",
    "for n in range(80):\n",
    "    d2 = n**2 -79*n + 1601\n",
    "    \n",
    "    d2list.append(d2)\n",
    "    if n <40:\n",
    "        d1 = n**2 + n + 41\n",
    "        d1list.append(d1)\n",
    "print(d1list)\n",
    "print(d2list)\n",
    "print(len(d1list),len(d2list))"
   ]
  },
  {
   "cell_type": "code",
   "execution_count": null,
   "metadata": {},
   "outputs": [],
   "source": [
    "cflist = []\n",
    "for a in range(-100, 100):\n",
    "    for b in range (-100, 101):\n",
    "        primelist = []\n",
    "        for n in range(100):\n",
    "            prime = n**2 + a*n + b\n",
    "            if prime%2 ==0:\n",
    "                primelist.append(prime)\n",
    "        print(primelist)"
   ]
  },
  {
   "cell_type": "code",
   "execution_count": null,
   "metadata": {},
   "outputs": [],
   "source": [
    "cflist"
   ]
  },
  {
   "cell_type": "code",
   "execution_count": null,
   "metadata": {},
   "outputs": [],
   "source": []
  }
 ],
 "metadata": {
  "kernelspec": {
   "display_name": "Python 3",
   "language": "python",
   "name": "python3"
  },
  "language_info": {
   "codemirror_mode": {
    "name": "ipython",
    "version": 3
   },
   "file_extension": ".py",
   "mimetype": "text/x-python",
   "name": "python",
   "nbconvert_exporter": "python",
   "pygments_lexer": "ipython3",
   "version": "3.6.4"
  }
 },
 "nbformat": 4,
 "nbformat_minor": 2
}
