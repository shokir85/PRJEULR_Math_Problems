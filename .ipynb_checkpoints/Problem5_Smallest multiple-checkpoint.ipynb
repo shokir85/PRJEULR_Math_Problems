{
 "cells": [
  {
   "cell_type": "code",
   "execution_count": 219,
   "metadata": {},
   "outputs": [
    {
     "name": "stdout",
     "output_type": "stream",
     "text": [
      "{2: 6, 3: 4, 5: 2, 7: 2, 11: 1, 13: 1, 17: 1, 19: 1, 23: 1, 29: 1, 31: 1, 37: 1, 41: 1, 43: 1, 47: 1, 53: 1, 59: 1, 61: 1, 67: 1, 71: 1, 73: 1, 79: 1, 83: 1, 89: 1, 97: 1}\n",
      "69720375229712477164533808935312303556800\n"
     ]
    }
   ],
   "source": [
    "dict1 = {}\n",
    "for i in range(2, 101):\n",
    "    num = i\n",
    "    f = 2\n",
    "    list1 = []\n",
    "    while i > 1:\n",
    "        if i%f==0:\n",
    "            i = i/f\n",
    "            list1.append(f)\n",
    "        else:\n",
    "            f = f + 1\n",
    "    for n in list1:\n",
    "        if (n in dict1) and (dict1[n] < list1.count(n)): \n",
    "            dict1[n] = list1.count(n)\n",
    "        elif (n not in dict1):\n",
    "            dict1[n] = list1.count(n)      \n",
    "print(dict1)\n",
    "prod = 1\n",
    "for key, value in dict1.items():\n",
    "    prod = prod* key**value\n",
    "print(prod)"
   ]
  },
  {
   "cell_type": "code",
   "execution_count": null,
   "metadata": {},
   "outputs": [],
   "source": []
  }
 ],
 "metadata": {
  "kernelspec": {
   "display_name": "Python 3",
   "language": "python",
   "name": "python3"
  },
  "language_info": {
   "codemirror_mode": {
    "name": "ipython",
    "version": 3
   },
   "file_extension": ".py",
   "mimetype": "text/x-python",
   "name": "python",
   "nbconvert_exporter": "python",
   "pygments_lexer": "ipython3",
   "version": "3.7.1"
  }
 },
 "nbformat": 4,
 "nbformat_minor": 2
}
