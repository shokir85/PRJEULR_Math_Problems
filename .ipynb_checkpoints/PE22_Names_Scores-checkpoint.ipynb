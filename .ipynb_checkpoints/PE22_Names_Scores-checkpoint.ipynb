{
 "cells": [
  {
   "cell_type": "code",
   "execution_count": 70,
   "metadata": {},
   "outputs": [
    {
     "name": "stdout",
     "output_type": "stream",
     "text": [
      "871198282\n",
      "0.02557849884033203\n"
     ]
    }
   ],
   "source": [
    "import time\n",
    "t0 = time.time()\n",
    "alphabet = {'A':1, 'B':2, 'C':3, 'D':4, 'E':5, 'F':6, 'G':7, 'H':8, \\\n",
    "            'I':9, 'J':10, 'K':11, 'L':12, 'M':13, 'N':14, 'O':15, \\\n",
    "            'P':16, 'Q':17, 'R':18, 'S':19, 'T':20, 'U':21, 'V':22, \\\n",
    "            'W':23, 'X':24, 'Y':25, 'Z':26}\n",
    "with open('p022_names.txt') as f:\n",
    "    mylst = []\n",
    "    for line in f:\n",
    "        lst = [x.strip() for x in line.split(',')]\n",
    "    lst.sort()\n",
    "total_namescore = 0\n",
    "name_position = 0\n",
    "for names in lst:\n",
    "    name_position +=1\n",
    "    name_worth = 0\n",
    "    for letter in names:\n",
    "        if letter != '\"':\n",
    "            name_worth += alphabet[letter]\n",
    "    total_namescore += name_position * name_worth\n",
    "print(total_namescore)\n",
    "print(time.time()-t0)"
   ]
  },
  {
   "cell_type": "code",
   "execution_count": null,
   "metadata": {},
   "outputs": [],
   "source": []
  }
 ],
 "metadata": {
  "kernelspec": {
   "display_name": "Python 3",
   "language": "python",
   "name": "python3"
  },
  "language_info": {
   "codemirror_mode": {
    "name": "ipython",
    "version": 3
   },
   "file_extension": ".py",
   "mimetype": "text/x-python",
   "name": "python",
   "nbconvert_exporter": "python",
   "pygments_lexer": "ipython3",
   "version": "3.6.4"
  }
 },
 "nbformat": 4,
 "nbformat_minor": 2
}
