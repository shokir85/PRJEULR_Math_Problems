{
 "cells": [
  {
   "cell_type": "code",
   "execution_count": 13,
   "metadata": {},
   "outputs": [],
   "source": [
    "def twosum(lst, target):\n",
    "    ind=[]\n",
    "    for i in lst:\n",
    "        for j in lst:\n",
    "            a = lst.index(i)\n",
    "            b = lst.index(j)\n",
    "            if a != b and i + j == target and a not in ind and b not in ind:\n",
    "                print(i, j)\n",
    "                ind.append(a)\n",
    "                ind.append(b)\n",
    "    return ind"
   ]
  },
  {
   "cell_type": "code",
   "execution_count": 14,
   "metadata": {},
   "outputs": [
    {
     "name": "stdout",
     "output_type": "stream",
     "text": [
      "2 4\n"
     ]
    },
    {
     "data": {
      "text/plain": [
       "[1, 3]"
      ]
     },
     "execution_count": 14,
     "metadata": {},
     "output_type": "execute_result"
    }
   ],
   "source": [
    "lst = [1,2,3,4,2,1,8,1,6]\n",
    "twosum(lst, 6)"
   ]
  },
  {
   "cell_type": "markdown",
   "metadata": {},
   "source": [
    "If we list all the natural numbers below 10 that are multiples of 3 or 5, we get 3, 5, 6 and 9. The sum of these multiples is 23.\n",
    "\n",
    "Find the sum of all the multiples of 3 or 5 below 1000. "
   ]
  },
  {
   "cell_type": "code",
   "execution_count": 35,
   "metadata": {},
   "outputs": [
    {
     "name": "stdout",
     "output_type": "stream",
     "text": [
      "23331668\n"
     ]
    }
   ],
   "source": [
    "class Divide (object):\n",
    "    \n",
    "    def __init__(self, num):\n",
    "        self.num = num\n",
    "        \n",
    "\n",
    "    def get_dividable(self):\n",
    "        summ = 0\n",
    "        for i in range(self.num):\n",
    "            if (i % 3) == 0 or (i % 5) == 0:      \n",
    "                summ += i\n",
    "        return summ\n",
    "\n",
    "    \n",
    "    \n",
    "    \n",
    "p1 = Divide(1000)\n",
    "p5 = Divide(5000)\n",
    "p10 = Divide(10000)\n",
    "\n",
    "t  = p10.get_dividable()\n",
    "\n",
    "\n",
    "\n",
    "def main():\n",
    "    print(t)\n",
    "\n",
    "\n",
    "main()\n",
    "\n"
   ]
  },
  {
   "cell_type": "code",
   "execution_count": null,
   "metadata": {},
   "outputs": [],
   "source": []
  },
  {
   "cell_type": "code",
   "execution_count": 57,
   "metadata": {},
   "outputs": [
    {
     "data": {
      "text/plain": [
       "\"My name is Beka and i'm 39,  i was born in 1980\""
      ]
     },
     "execution_count": 57,
     "metadata": {},
     "output_type": "execute_result"
    }
   ],
   "source": [
    "class Family (object):\n",
    "    \n",
    "    def __init__(self, name, age, dob):\n",
    "        self.name = name\n",
    "        self.age = age\n",
    "        self.dob = dob\n",
    "    \n",
    "    def katta_uul(self):\n",
    "        if self.name == \"Mirlan\":\n",
    "            b=\"My name is Beka and i'm {},  i was born in {}\".format(self.age, self.dob)\n",
    "        else:\n",
    "            b=\"My name is Nodir and i'm {},  i was born in {}\".format(self.age, self.dob)\n",
    "        return b\n",
    "    \n",
    "    \n",
    "    def kichik_uul(self):\n",
    "        return \"My name is {} and i'm {},  i was born in {}\".format(self.name, self.age, self.dob)\n",
    "    \n",
    "    \n",
    "shokir = Family(\"Nodir\", \"34\", \"1985\")\n",
    "\n",
    "mirlan = Family(\"Mirlan\", \"39\", \"1980\")\n",
    "\n",
    "\n",
    "     \n",
    "mk=mirlan.katta_uul()\n",
    "sk=shokir.katta_uul()\n",
    "\n",
    "mc=mirlan.kichik_uul()\n",
    "sc=shokir.kichik_uul()\n",
    "\n",
    "\n",
    "\n",
    "\n",
    "\n",
    "\n",
    "\n",
    "\n",
    "\n",
    "\n",
    "\n",
    "\n",
    "\n",
    "\n",
    "\n",
    "\n",
    "\n",
    "\n",
    "\n",
    "\n",
    "\n",
    "\n",
    "\n",
    "\n",
    "\n",
    "\n",
    "\n",
    "\n",
    "\n",
    "\n",
    "\n",
    "\n",
    "\n",
    "\n",
    "\n",
    "\n",
    "\n",
    "\n",
    "\n",
    "\n",
    "\n",
    "mk\n",
    "\n",
    "\n",
    "\n",
    "\n",
    "\n"
   ]
  },
  {
   "cell_type": "code",
   "execution_count": null,
   "metadata": {},
   "outputs": [],
   "source": []
  }
 ],
 "metadata": {
  "kernelspec": {
   "display_name": "Python 3",
   "language": "python",
   "name": "python3"
  },
  "language_info": {
   "codemirror_mode": {
    "name": "ipython",
    "version": 3
   },
   "file_extension": ".py",
   "mimetype": "text/x-python",
   "name": "python",
   "nbconvert_exporter": "python",
   "pygments_lexer": "ipython3",
   "version": "3.7.1"
  }
 },
 "nbformat": 4,
 "nbformat_minor": 2
}
