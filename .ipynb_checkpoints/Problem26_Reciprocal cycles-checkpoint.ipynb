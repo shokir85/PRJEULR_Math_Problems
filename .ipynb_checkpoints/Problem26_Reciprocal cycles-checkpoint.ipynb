{
 "cells": [
  {
   "cell_type": "code",
   "execution_count": 59,
   "metadata": {},
   "outputs": [
    {
     "name": "stdout",
     "output_type": "stream",
     "text": [
      "983 884\n"
     ]
    }
   ],
   "source": [
    "remain_count = 0\n",
    "for m in range(2, 1000):\n",
    "    n = 1 # number to be divided n/m, n = 1;\n",
    "    r = 2 # initializing remainder to be 2\n",
    "    remain_list = [] # creating list of remainders for every m value\n",
    "    while r >= n:\n",
    "        if n < m and m < 10: # checking m < 10, such as 2,3,..9, and n value < m value\n",
    "            n = n * 10 # n < m, and multiply numerator n by 10 before dividing n*10 by m\n",
    "            r = n - m*int(n/m) # calculate remainder\n",
    "        elif m < 10*n: # checking conditions\n",
    "            n = n * 10\n",
    "            r = n - m*int(n/m)\n",
    "        elif m>10*n and m<100*n: # checking  conditions\n",
    "            n = n *100\n",
    "            r = n - m*int(n/m)\n",
    "        elif m>100*n and m<1000*n: #checking conditions\n",
    "            n = n *1000\n",
    "            r = n - m*int(n/m)\n",
    "        remain_list.append(r) # appending r to remainder list remain_list for m value\n",
    "        n = r # setting numerator value n to remainder r\n",
    "        count = remain_list.count(r)# counting if any remainder in remain_list is repeated;\n",
    "        if len(remain_list)-1 > remain_count: # if length of remain_list -1 is greater than remain count\n",
    "            remain_count = len(remain_list)-1 # last item in remain_list is repeated before breaking while loop\n",
    "            num = m # setting m value to num for longest remain_list\n",
    "        if count == 2: # if any remainder is repeated in remain_list, then count = 2\n",
    "            #that's when we break while loop and go to another m value in for loop\n",
    "            break\n",
    "print(num, remain_count)# printing number num for longest remain_list, and count of remainders  = remain_count"
   ]
  },
  {
   "cell_type": "code",
   "execution_count": 53,
   "metadata": {},
   "outputs": [
    {
     "data": {
      "text/plain": [
       "False"
      ]
     },
     "execution_count": 53,
     "metadata": {},
     "output_type": "execute_result"
    }
   ],
   "source": [
    "9967==8970"
   ]
  },
  {
   "cell_type": "code",
   "execution_count": null,
   "metadata": {},
   "outputs": [],
   "source": []
  }
 ],
 "metadata": {
  "kernelspec": {
   "display_name": "Python 3",
   "language": "python",
   "name": "python3"
  },
  "language_info": {
   "codemirror_mode": {
    "name": "ipython",
    "version": 3
   },
   "file_extension": ".py",
   "mimetype": "text/x-python",
   "name": "python",
   "nbconvert_exporter": "python",
   "pygments_lexer": "ipython3",
   "version": "3.7.1"
  }
 },
 "nbformat": 4,
 "nbformat_minor": 2
}
