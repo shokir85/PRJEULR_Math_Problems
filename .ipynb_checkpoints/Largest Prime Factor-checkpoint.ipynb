{
 "cells": [
  {
   "cell_type": "code",
   "execution_count": null,
   "metadata": {},
   "outputs": [],
   "source": [
    "#The prime factors of 13195 are 5, 7, 13 and 29.\n",
    "\n",
    "#What is the largest prime factor of the number 600851475143 ?\n",
    "\n",
    "def LargestPrimeFactor (n, m):\n",
    "    primelist = []\n",
    "    multiplied = 1\n",
    "    for i in range(3, m, 2):\n",
    "        while n%i == 0:\n",
    "            primelist.append(i)\n",
    "            multiplied = multiplied*i\n",
    "            if multiplied == n:\n",
    "                print(primelist)\n",
    "                print(primelist[-1])\n",
    "                break\n",
    "LargestPrimeFactor(600851475143,10000)"
   ]
  },
  {
   "cell_type": "code",
   "execution_count": 1,
   "metadata": {},
   "outputs": [],
   "source": [
    "def trial_division(n):\n",
    "    a = []              \n",
    "    f = 2                \n",
    "    while n > 1:         \n",
    "        if (n % f == 0):             \n",
    "            a.append(f)         \n",
    "            n /= f              \n",
    "        else:     \n",
    "            f += 1 \n",
    "    return a  "
   ]
  },
  {
   "cell_type": "code",
   "execution_count": null,
   "metadata": {},
   "outputs": [],
   "source": [
    "trial_division(600851475143)"
   ]
  }
 ],
 "metadata": {
  "kernelspec": {
   "display_name": "Python 3",
   "language": "python",
   "name": "python3"
  },
  "language_info": {
   "codemirror_mode": {
    "name": "ipython",
    "version": 3
   },
   "file_extension": ".py",
   "mimetype": "text/x-python",
   "name": "python",
   "nbconvert_exporter": "python",
   "pygments_lexer": "ipython3",
   "version": "3.6.4"
  }
 },
 "nbformat": 4,
 "nbformat_minor": 2
}
