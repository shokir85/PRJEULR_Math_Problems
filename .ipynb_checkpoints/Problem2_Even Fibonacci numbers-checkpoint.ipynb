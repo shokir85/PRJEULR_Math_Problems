{
 "cells": [
  {
   "cell_type": "code",
   "execution_count": 18,
   "metadata": {},
   "outputs": [
    {
     "name": "stdout",
     "output_type": "stream",
     "text": [
      "4613732\n"
     ]
    }
   ],
   "source": [
    "def sum_even_fib(limit):\n",
    "    summ = 0\n",
    "    fib1 = 1\n",
    "    fib2 = 1\n",
    "    fib_current=0\n",
    "    while fib_current < limit:\n",
    "        fib_current = fib1+fib2\n",
    "        if fib_current%2==0:\n",
    "            summ+=fib_current\n",
    "        fib1 = fib2\n",
    "        fib2 = fib_current\n",
    "    print(summ)\n",
    "sum_even_fib(4000000)"
   ]
  }
 ],
 "metadata": {
  "kernelspec": {
   "display_name": "Python 3",
   "language": "python",
   "name": "python3"
  },
  "language_info": {
   "codemirror_mode": {
    "name": "ipython",
    "version": 3
   },
   "file_extension": ".py",
   "mimetype": "text/x-python",
   "name": "python",
   "nbconvert_exporter": "python",
   "pygments_lexer": "ipython3",
   "version": "3.7.1"
  }
 },
 "nbformat": 4,
 "nbformat_minor": 2
}
