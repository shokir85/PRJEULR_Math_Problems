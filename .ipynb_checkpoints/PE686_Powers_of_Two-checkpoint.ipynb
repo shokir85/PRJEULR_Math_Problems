{
 "cells": [
  {
   "cell_type": "code",
   "execution_count": null,
   "metadata": {
    "scrolled": false
   },
   "outputs": [],
   "source": [
    "import math\n",
    "import time\n",
    "start = time.time()\n",
    "counter = 0\n",
    "ll = math.log(123,10) - int(math.log(123,10))\n",
    "ul = math.log(124,10) - int(math.log(124,10))\n",
    "mathlog = math.log(2,10)\n",
    "m = 1\n",
    "counterdict = {}\n",
    "while counter < 12:\n",
    "    num = m *mathlog - int(m *mathlog)\n",
    "    if num > ll and num < ul:\n",
    "        counter += 1\n",
    "        counterdict[counter] = m\n",
    "    m += 1\n",
    "end = time.time()\n",
    "print(counter, counterdict[counter])\n",
    "print((end - start)/60.0, 'seconds')"
   ]
  },
  {
   "cell_type": "code",
   "execution_count": null,
   "metadata": {},
   "outputs": [],
   "source": [
    "counterdict"
   ]
  },
  {
   "cell_type": "code",
   "execution_count": 17,
   "metadata": {
    "scrolled": false
   },
   "outputs": [
    {
     "data": {
      "text/plain": [
       "(678910, 193060223, 0.7040257453918457)"
      ]
     },
     "execution_count": 17,
     "metadata": {},
     "output_type": "execute_result"
    }
   ],
   "source": [
    "import math\n",
    "import time\n",
    "ts = time.time()\n",
    "def Powers_of_Two(Limit):\n",
    "    counter = 1\n",
    "    ll = math.log(123,10) - int(math.log(123,10))\n",
    "    ul = math.log(124,10) - int(math.log(124,10))\n",
    "    counterdict ={}\n",
    "    mathlog = math.log(2,10)\n",
    "    counterdict[1] = 90\n",
    "    incrementlst = [196,289,485]\n",
    "    m = 90\n",
    "    while counter < Limit:\n",
    "        for incr in incrementlst:\n",
    "            m += incr\n",
    "            num = m *mathlog - int(m *mathlog)\n",
    "            if num > ll and num < ul:\n",
    "                counter += 1\n",
    "                counterdict[counter] = m\n",
    "                break\n",
    "            else:\n",
    "                m = m - incr\n",
    "    return counter, counterdict[counter], time.time() - ts\n",
    "Powers_of_Two(678910)"
   ]
  },
  {
   "cell_type": "code",
   "execution_count": null,
   "metadata": {},
   "outputs": [],
   "source": []
  }
 ],
 "metadata": {
  "kernelspec": {
   "display_name": "Python 3",
   "language": "python",
   "name": "python3"
  },
  "language_info": {
   "codemirror_mode": {
    "name": "ipython",
    "version": 3
   },
   "file_extension": ".py",
   "mimetype": "text/x-python",
   "name": "python",
   "nbconvert_exporter": "python",
   "pygments_lexer": "ipython3",
   "version": "3.7.1"
  }
 },
 "nbformat": 4,
 "nbformat_minor": 2
}
