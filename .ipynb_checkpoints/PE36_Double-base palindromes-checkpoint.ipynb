{
 "cells": [
  {
   "cell_type": "code",
   "execution_count": 62,
   "metadata": {
    "scrolled": false
   },
   "outputs": [
    {
     "name": "stdout",
     "output_type": "stream",
     "text": [
      "872187\n"
     ]
    }
   ],
   "source": [
    "list_10 = []\n",
    "for i in range(1,1000001):\n",
    "    if str(i) == str(i)[::-1]:\n",
    "        list_10.append(i)\n",
    "palindrom_sum = 0\n",
    "for n in list_10:\n",
    "    paln = n\n",
    "    lst = []\n",
    "    while n > 0:\n",
    "        q = n%2\n",
    "        n = n/2 \n",
    "        n = int(n)\n",
    "        lst.append(q)\n",
    "    binary_list = lst[::-1]\n",
    "    if lst == binary_list:\n",
    "        palindrom_sum += paln\n",
    "print(palindrom_sum)"
   ]
  },
  {
   "cell_type": "code",
   "execution_count": null,
   "metadata": {},
   "outputs": [],
   "source": []
  }
 ],
 "metadata": {
  "kernelspec": {
   "display_name": "Python 3",
   "language": "python",
   "name": "python3"
  },
  "language_info": {
   "codemirror_mode": {
    "name": "ipython",
    "version": 3
   },
   "file_extension": ".py",
   "mimetype": "text/x-python",
   "name": "python",
   "nbconvert_exporter": "python",
   "pygments_lexer": "ipython3",
   "version": "3.7.4"
  }
 },
 "nbformat": 4,
 "nbformat_minor": 2
}
