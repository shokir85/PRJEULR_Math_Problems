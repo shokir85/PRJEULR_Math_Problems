{
 "cells": [
  {
   "cell_type": "code",
   "execution_count": 19,
   "metadata": {},
   "outputs": [
    {
     "name": "stdout",
     "output_type": "stream",
     "text": [
      "1264\n",
      "666666\n",
      "0.44385838508605957\n"
     ]
    }
   ],
   "source": [
    "import time\n",
    "t0 = time.time()\n",
    "73, 79, 83, 89, 97, 101\n",
    "initiallist = [2, 3, 5, 7, 11, 13, 17, 19, 23, 29, 31, 37, \\\n",
    "               41, 43, 47, 53, 59, 61, 67, 71, 73, 79, 83, \\\n",
    "               89, 97, 101, 103]\n",
    "summa = 0\n",
    "for x in initiallist:\n",
    "    summa +=x\n",
    "print (summa)\n",
    "primelist = []\n",
    "count  = 0\n",
    "for x in range(2, 2000001):\n",
    "    if (x%2 !=0 and x%3 !=0): \\\n",
    "        #and x%11 !=0 and x%13 !=0 and x%17 !=0 and x%19 !=0 \\\n",
    "        #and x%23 !=0 and x%29 !=0 and x%31 !=0 and x%37 !=0 \\\n",
    "        #and x%41 !=0 and x%43 !=0 and x%47 !=0 and x%53 !=0 \\\n",
    "        #and x%59 !=0 and x%61 !=0 and x%67 !=0 and x%71 !=0 \\\n",
    "        #and x%73 !=0 and x%79 !=0 and x%83 !=0 and x%89 !=0 \\\n",
    "        #and x%97 !=0 and x%101 !=0 and x%103 !=0):\n",
    "        primelist.append(x)\n",
    "        count += 1\n",
    "print (count)\n",
    "#print(primelist)\n",
    "t1 = time.time()\n",
    "print(t1-t0)"
   ]
  },
  {
   "cell_type": "code",
   "execution_count": 21,
   "metadata": {},
   "outputs": [
    {
     "name": "stdout",
     "output_type": "stream",
     "text": [
      "9501\n",
      "0.003508329391479492\n"
     ]
    }
   ],
   "source": [
    "import time\n",
    "t0 = time.time()\n",
    "\n",
    "summa = 5\n",
    "\n",
    "lst  = []\n",
    "primelistf = []\n",
    "for s in primelist[:100]:\n",
    "    lst.append(s)\n",
    "    #print(s)\n",
    "    while s%2 ==0:\n",
    "        primelistf.append(s)\n",
    "        n /=2\n",
    "    f = 3\n",
    "    while s > 1:\n",
    "        if (s%f == 0):\n",
    "            primelistf.append(f)\n",
    "            s /=f\n",
    "        else:\n",
    "            f += 1\n",
    "#print(primelistf)\n",
    "for x in primelistf:\n",
    "    summa = summa + x\n",
    "print(summa)\n",
    "t1 = time.time()\n",
    "print(t1-t0)"
   ]
  },
  {
   "cell_type": "code",
   "execution_count": 25,
   "metadata": {},
   "outputs": [
    {
     "name": "stdout",
     "output_type": "stream",
     "text": [
      "3\n",
      "4\n",
      "5\n",
      "6\n",
      "7\n",
      "8\n",
      "9\n",
      "[3, 4, 2.0, 5, 6, 3, 7, 8, 4.0, 2.0, 3, 3]\n",
      "52.0\n",
      "0.0010027885437011719\n"
     ]
    }
   ],
   "source": [
    "import time\n",
    "t0 = time.time()\n",
    "\n",
    "summa = 2\n",
    "\n",
    "lst  = []\n",
    "primelistf = []\n",
    "for s in range(3, 10):\n",
    "    lst.append(s)\n",
    "    print(s)\n",
    "    while s%2 ==0:\n",
    "        primelistf.append(s)\n",
    "        s /=2\n",
    "    f = 3\n",
    "    while s > 1:\n",
    "        if (s%f == 0):\n",
    "            primelistf.append(f)\n",
    "            s /=f\n",
    "        else:\n",
    "            f += 2\n",
    "print(primelistf)\n",
    "for x in primelistf:\n",
    "    summa = summa + x\n",
    "print(summa)\n",
    "t1 = time.time()\n",
    "print(t1-t0)"
   ]
  },
  {
   "cell_type": "code",
   "execution_count": 26,
   "metadata": {},
   "outputs": [
    {
     "name": "stdout",
     "output_type": "stream",
     "text": [
      "142913828922\n",
      "58.52670907974243\n"
     ]
    }
   ],
   "source": [
    "import math\n",
    "import time\n",
    "t0 = time.time()\n",
    "def is_prime(var):\n",
    "    factor = 2\n",
    "    while factor <= math.sqrt(var):\n",
    "        if var % factor == 0:\n",
    "            return False\n",
    "        else:\n",
    "            factor = factor + 1\n",
    "    return True\n",
    "\n",
    "def sum_of_primes(n):\n",
    "    my_sum = 0\n",
    "\n",
    "    for i in range(2, n):\n",
    "        if is_prime(i):\n",
    "            my_sum = my_sum + i\n",
    "\n",
    "    return my_sum\n",
    "\n",
    "print(sum_of_primes(2000000))\n",
    "print(time.time() - t0)"
   ]
  },
  {
   "cell_type": "code",
   "execution_count": null,
   "metadata": {},
   "outputs": [],
   "source": []
  }
 ],
 "metadata": {
  "kernelspec": {
   "display_name": "Python 3",
   "language": "python",
   "name": "python3"
  },
  "language_info": {
   "codemirror_mode": {
    "name": "ipython",
    "version": 3
   },
   "file_extension": ".py",
   "mimetype": "text/x-python",
   "name": "python",
   "nbconvert_exporter": "python",
   "pygments_lexer": "ipython3",
   "version": "3.6.4"
  }
 },
 "nbformat": 4,
 "nbformat_minor": 2
}
