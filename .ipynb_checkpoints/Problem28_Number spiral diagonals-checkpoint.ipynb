{
 "cells": [
  {
   "cell_type": "code",
   "execution_count": 21,
   "metadata": {
    "scrolled": false
   },
   "outputs": [
    {
     "name": "stdout",
     "output_type": "stream",
     "text": [
      "669171001\n"
     ]
    }
   ],
   "source": [
    "sum_total = 0\n",
    "for i in range(3, 1002, 2):\n",
    "# upper right direction = i*i;\n",
    "# lower right direction = (i-1)*(i-2)+1;\n",
    "# lower left direction = (i -1)**2 +1;\n",
    "# upper left direction = i *(i-1)+1;\n",
    "# sum of of the values above;\n",
    "# at the end add central value +1 to the total summ;\n",
    "    sum_total += i * i + (i-1)**2 +1 + i*(i-1)+1 + (i-1)*(i-2)+1\n",
    "sum_total += 1    \n",
    "print(sum_total)"
   ]
  },
  {
   "cell_type": "code",
   "execution_count": null,
   "metadata": {},
   "outputs": [],
   "source": []
  },
  {
   "cell_type": "code",
   "execution_count": null,
   "metadata": {},
   "outputs": [],
   "source": []
  }
 ],
 "metadata": {
  "kernelspec": {
   "display_name": "Python 3",
   "language": "python",
   "name": "python3"
  },
  "language_info": {
   "codemirror_mode": {
    "name": "ipython",
    "version": 3
   },
   "file_extension": ".py",
   "mimetype": "text/x-python",
   "name": "python",
   "nbconvert_exporter": "python",
   "pygments_lexer": "ipython3",
   "version": "3.7.1"
  }
 },
 "nbformat": 4,
 "nbformat_minor": 2
}
