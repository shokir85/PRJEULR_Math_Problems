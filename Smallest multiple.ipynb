{
 "cells": [
  {
   "cell_type": "code",
   "execution_count": 2,
   "metadata": {},
   "outputs": [
    {
     "name": "stdout",
     "output_type": "stream",
     "text": [
      "20 5587021440\n"
     ]
    }
   ],
   "source": [
    "#2520 is the smallest number that can be divided by each of the numbers from 1 to 10 without any remainder.\n",
    "\n",
    "#What is the smallest positive number that is evenly divisible by all of the numbers from 1 to 20?\n",
    "mult = 1\n",
    "for i in range(1,21):\n",
    "    if mult%i != 0:\n",
    "        mult = mult * i\n",
    "print(i, mult)\n",
    "    "
   ]
  },
  {
   "cell_type": "code",
   "execution_count": 1,
   "metadata": {},
   "outputs": [
    {
     "name": "stdout",
     "output_type": "stream",
     "text": [
      "232792560\n"
     ]
    }
   ],
   "source": [
    "smallest_num = 1\n",
    "for i in range (1,21):\n",
    "    if smallest_num % i > 0:\n",
    "        for k in range (1,21):\n",
    "            if (smallest_num * k) % i == 0:   \n",
    "                smallest_num = smallest_num * k\n",
    "                break\n",
    "print (smallest_num)    "
   ]
  },
  {
   "cell_type": "code",
   "execution_count": null,
   "metadata": {},
   "outputs": [],
   "source": []
  }
 ],
 "metadata": {
  "kernelspec": {
   "display_name": "Python 3",
   "language": "python",
   "name": "python3"
  },
  "language_info": {
   "codemirror_mode": {
    "name": "ipython",
    "version": 3
   },
   "file_extension": ".py",
   "mimetype": "text/x-python",
   "name": "python",
   "nbconvert_exporter": "python",
   "pygments_lexer": "ipython3",
   "version": "3.7.1"
  }
 },
 "nbformat": 4,
 "nbformat_minor": 2
}
