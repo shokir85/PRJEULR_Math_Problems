{
 "cells": [
  {
   "cell_type": "code",
   "execution_count": 5,
   "metadata": {},
   "outputs": [
    {
     "name": "stdout",
     "output_type": "stream",
     "text": [
      "25164150\n"
     ]
    }
   ],
   "source": [
    "#The sum of the squares of the first ten natural numbers is,\n",
    "#12 + 22 + ... + 102 = 385#\n",
    "#The square of the sum of the first ten natural numbers is,\n",
    "#(1 + 2 + ... + 10)2 = 552 = 3025\n",
    "#Hence the difference between the sum of the squares of the first ten natural numbers and the square of the sum is 3025 − 385 = 2640.\n",
    "#Find the difference between the sum of the squares of the first one hundred natural numbers and the square of the sum.\n",
    "def difference(n):\n",
    "    sumsquared = 0\n",
    "    squaresum = 0\n",
    "    for i in range(1,n+1):\n",
    "        sumsquared = sumsquared + i*i\n",
    "        squaresum = squaresum + i\n",
    "    difference = squaresum*squaresum - sumsquared    \n",
    "    print(difference)\n",
    "difference (100)\n",
    "    \n"
   ]
  },
  {
   "cell_type": "code",
   "execution_count": null,
   "metadata": {},
   "outputs": [],
   "source": []
  }
 ],
 "metadata": {
  "kernelspec": {
   "display_name": "Python 3",
   "language": "python",
   "name": "python3"
  },
  "language_info": {
   "codemirror_mode": {
    "name": "ipython",
    "version": 3
   },
   "file_extension": ".py",
   "mimetype": "text/x-python",
   "name": "python",
   "nbconvert_exporter": "python",
   "pygments_lexer": "ipython3",
   "version": "3.6.4"
  }
 },
 "nbformat": 4,
 "nbformat_minor": 2
}
