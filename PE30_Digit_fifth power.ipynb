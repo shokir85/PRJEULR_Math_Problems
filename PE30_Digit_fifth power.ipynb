{
 "cells": [
  {
   "cell_type": "code",
   "execution_count": 67,
   "metadata": {},
   "outputs": [
    {
     "name": "stdout",
     "output_type": "stream",
     "text": [
      "4150 4150\n",
      "4151 4151\n",
      "54748 54748\n",
      "92727 92727\n",
      "93084 93084\n",
      "194979 194979\n",
      "443839\n"
     ]
    }
   ],
   "source": [
    "summ = 0\n",
    "for i in range(2, 200000):\n",
    "   # print(i)\n",
    "    digits = [d for d in str(i)]\n",
    "    num = 0\n",
    "    for d in digits:\n",
    "        num += int(d)**5\n",
    "    if num == i:\n",
    "        summ += num\n",
    "        print(i, num)\n",
    "print(summ)"
   ]
  },
  {
   "cell_type": "code",
   "execution_count": null,
   "metadata": {},
   "outputs": [],
   "source": []
  }
 ],
 "metadata": {
  "kernelspec": {
   "display_name": "Python 3",
   "language": "python",
   "name": "python3"
  },
  "language_info": {
   "codemirror_mode": {
    "name": "ipython",
    "version": 3
   },
   "file_extension": ".py",
   "mimetype": "text/x-python",
   "name": "python",
   "nbconvert_exporter": "python",
   "pygments_lexer": "ipython3",
   "version": "3.6.4"
  }
 },
 "nbformat": 4,
 "nbformat_minor": 2
}
