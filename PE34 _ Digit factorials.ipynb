{
 "cells": [
  {
   "cell_type": "code",
   "execution_count": 28,
   "metadata": {},
   "outputs": [],
   "source": [
    "def fact(n):\n",
    "    if n == 0:\n",
    "        return 1\n",
    "    else:\n",
    "        mult = 1\n",
    "        for i in range(1,n+1):\n",
    "            mult = mult * i\n",
    "        return mult"
   ]
  },
  {
   "cell_type": "code",
   "execution_count": 41,
   "metadata": {},
   "outputs": [
    {
     "name": "stdout",
     "output_type": "stream",
     "text": [
      "145\n",
      "40585\n",
      "40730\n"
     ]
    }
   ],
   "source": [
    "summa = 0\n",
    "for i in range(3, 10000000):\n",
    "    digits = [d for d in str(i)]\n",
    "    number = 0\n",
    "    for j in digits:\n",
    "        number += fact(int(j))\n",
    "    if number == i:\n",
    "        summa +=number\n",
    "        print(number)\n",
    "print(summa)"
   ]
  },
  {
   "cell_type": "code",
   "execution_count": null,
   "metadata": {},
   "outputs": [],
   "source": []
  },
  {
   "cell_type": "code",
   "execution_count": null,
   "metadata": {},
   "outputs": [],
   "source": []
  },
  {
   "cell_type": "code",
   "execution_count": null,
   "metadata": {},
   "outputs": [],
   "source": []
  }
 ],
 "metadata": {
  "kernelspec": {
   "display_name": "Python 3",
   "language": "python",
   "name": "python3"
  },
  "language_info": {
   "codemirror_mode": {
    "name": "ipython",
    "version": 3
   },
   "file_extension": ".py",
   "mimetype": "text/x-python",
   "name": "python",
   "nbconvert_exporter": "python",
   "pygments_lexer": "ipython3",
   "version": "3.6.4"
  }
 },
 "nbformat": 4,
 "nbformat_minor": 2
}
