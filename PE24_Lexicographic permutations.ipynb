{
 "cells": [
  {
   "cell_type": "code",
   "execution_count": 261,
   "metadata": {
    "scrolled": false
   },
   "outputs": [
    {
     "name": "stdout",
     "output_type": "stream",
     "text": [
      "2783915460\n",
      "11.853832483291626\n"
     ]
    }
   ],
   "source": [
    "            #my crude code#\n",
    "import time\n",
    "t0 = time.time()\n",
    "temporary =['0']\n",
    "for item in range(1,10):\n",
    "    permuts = []\n",
    "    for element in temporary:\n",
    "        digits = [i for i in element]\n",
    "        for j in range(len(digits)+1):\n",
    "            digits.insert(j, item)\n",
    "            a = ''.join(map(str,digits))\n",
    "            permuts.append(a)\n",
    "            digits.remove(item)\n",
    "            temporary = permuts\n",
    "permuts.sort()\n",
    "print(permuts[999999])\n",
    "print(time.time()-t0)"
   ]
  },
  {
   "cell_type": "code",
   "execution_count": 262,
   "metadata": {},
   "outputs": [
    {
     "name": "stdout",
     "output_type": "stream",
     "text": [
      "2783915460\n"
     ]
    }
   ],
   "source": [
    "            #taken from forum\n",
    "from itertools import permutations\n",
    "\n",
    "join = lambda x: ''.join(x)\n",
    "perms = map(join, permutations('0123456789'))\n",
    "\n",
    "for i, n in enumerate(perms):\n",
    "    if i == 999999:\n",
    "        print(n)\n",
    "        break\n"
   ]
  },
  {
   "cell_type": "code",
   "execution_count": null,
   "metadata": {},
   "outputs": [],
   "source": []
  }
 ],
 "metadata": {
  "kernelspec": {
   "display_name": "Python 3",
   "language": "python",
   "name": "python3"
  },
  "language_info": {
   "codemirror_mode": {
    "name": "ipython",
    "version": 3
   },
   "file_extension": ".py",
   "mimetype": "text/x-python",
   "name": "python",
   "nbconvert_exporter": "python",
   "pygments_lexer": "ipython3",
   "version": "3.6.4"
  }
 },
 "nbformat": 4,
 "nbformat_minor": 2
}
