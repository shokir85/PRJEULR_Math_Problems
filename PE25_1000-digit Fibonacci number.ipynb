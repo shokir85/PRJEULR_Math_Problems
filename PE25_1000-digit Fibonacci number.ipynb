{
 "cells": [
  {
   "cell_type": "code",
   "execution_count": 1,
   "metadata": {},
   "outputs": [],
   "source": [
    "def Index_Fibonacci(target):\n",
    "    fib1 = 1\n",
    "    fib2 = 1\n",
    "    digits = []\n",
    "    counter = 2\n",
    "    while len(digits) < target:\n",
    "            fib_current = fib1 + fib2\n",
    "            digits = [i for i in str(fib_current)]\n",
    "            counter +=1\n",
    "            fib1 = fib2\n",
    "            fib2 = fib_current\n",
    "    return counter"
   ]
  },
  {
   "cell_type": "code",
   "execution_count": 2,
   "metadata": {
    "scrolled": true
   },
   "outputs": [
    {
     "data": {
      "text/plain": [
       "4782"
      ]
     },
     "execution_count": 2,
     "metadata": {},
     "output_type": "execute_result"
    }
   ],
   "source": [
    "Index_Fibonacci(1000)"
   ]
  },
  {
   "cell_type": "code",
   "execution_count": null,
   "metadata": {},
   "outputs": [],
   "source": []
  }
 ],
 "metadata": {
  "kernelspec": {
   "display_name": "Python 3",
   "language": "python",
   "name": "python3"
  },
  "language_info": {
   "codemirror_mode": {
    "name": "ipython",
    "version": 3
   },
   "file_extension": ".py",
   "mimetype": "text/x-python",
   "name": "python",
   "nbconvert_exporter": "python",
   "pygments_lexer": "ipython3",
   "version": "3.6.4"
  }
 },
 "nbformat": 4,
 "nbformat_minor": 2
}
